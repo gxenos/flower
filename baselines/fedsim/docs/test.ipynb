{
 "cells": [
  {
   "cell_type": "code",
   "execution_count": 1,
   "id": "49705818",
   "metadata": {},
   "outputs": [
    {
     "name": "stderr",
     "output_type": "stream",
     "text": [
      "/opt/miniconda3/envs/flowerpr/lib/python3.10/site-packages/tqdm/auto.py:21: TqdmWarning: IProgress not found. Please update jupyter and ipywidgets. See https://ipywidgets.readthedocs.io/en/stable/user_install.html\n",
      "  from .autonotebook import tqdm as notebook_tqdm\n"
     ]
    }
   ],
   "source": [
    "from flwr_datasets import FederatedDataset\n",
    "from flwr_datasets.partitioner import IidPartitioner\n",
    "from torch.utils.data import DataLoader\n",
    "from torchvision.transforms import Compose, ToTensor, Lambda\n",
    "from torch import flatten"
   ]
  },
  {
   "cell_type": "code",
   "execution_count": 20,
   "id": "14a61d7a",
   "metadata": {},
   "outputs": [],
   "source": [
    "def filter_chars(dataset_dict):\n",
    "    def keep_a_to_j(example):\n",
    "        return example[\"character\"] in [c for c in range(36, 46)]\n",
    "    filtered = dataset_dict.filter(keep_a_to_j)\n",
    "    return filtered"
   ]
  },
  {
   "cell_type": "code",
   "execution_count": 21,
   "id": "7257fa3f",
   "metadata": {},
   "outputs": [],
   "source": [
    "num_partitions = 10\n",
    "\n",
    "partitioner = IidPartitioner(num_partitions=num_partitions)\n",
    "FDS = FederatedDataset(\n",
    "    dataset=\"flwrlabs/femnist\",\n",
    "    partitioners={\"train\": partitioner},\n",
    "    preprocessor=filter_chars\n",
    ")\n"
   ]
  },
  {
   "cell_type": "code",
   "execution_count": 33,
   "id": "2c10e768",
   "metadata": {},
   "outputs": [],
   "source": [
    "a = FDS.load_partition(9)"
   ]
  },
  {
   "cell_type": "code",
   "execution_count": 34,
   "id": "dfa30e2f",
   "metadata": {},
   "outputs": [
    {
     "data": {
      "text/plain": [
       "36"
      ]
     },
     "execution_count": 34,
     "metadata": {},
     "output_type": "execute_result"
    }
   ],
   "source": [
    "min(a[\"character\"])"
   ]
  },
  {
   "cell_type": "code",
   "execution_count": 31,
   "id": "f55e9e08",
   "metadata": {},
   "outputs": [
    {
     "data": {
      "text/plain": [
       "8438"
      ]
     },
     "execution_count": 31,
     "metadata": {},
     "output_type": "execute_result"
    }
   ],
   "source": [
    "len(a)"
   ]
  },
  {
   "cell_type": "code",
   "execution_count": 19,
   "id": "6bbfdefc",
   "metadata": {},
   "outputs": [
    {
     "data": {
      "text/plain": [
       "[36, 37, 38, 39, 40, 41, 42, 43, 44]"
      ]
     },
     "execution_count": 19,
     "metadata": {},
     "output_type": "execute_result"
    }
   ],
   "source": [
    "[c for c in range(36, 45)]"
   ]
  },
  {
   "cell_type": "code",
   "execution_count": 32,
   "id": "690d259e",
   "metadata": {},
   "outputs": [
    {
     "data": {
      "text/plain": [
       "84380"
      ]
     },
     "execution_count": 32,
     "metadata": {},
     "output_type": "execute_result"
    }
   ],
   "source": [
    "8438 * 10"
   ]
  },
  {
   "cell_type": "code",
   "execution_count": 36,
   "id": "89c3e364",
   "metadata": {},
   "outputs": [
    {
     "data": {
      "text/plain": [
       "{'image': <PIL.PngImagePlugin.PngImageFile image mode=L size=28x28>,\n",
       " 'writer_id': 'f0585_26',\n",
       " 'hsf_id': 1,\n",
       " 'character': 44}"
      ]
     },
     "execution_count": 36,
     "metadata": {},
     "output_type": "execute_result"
    }
   ],
   "source": [
    "a[0]"
   ]
  },
  {
   "cell_type": "code",
   "execution_count": 12,
   "id": "601a510f",
   "metadata": {},
   "outputs": [],
   "source": [
    "from matplotlib.pyplot import imshow\n",
    "import numpy as np\n",
    "from PIL import Image"
   ]
  },
  {
   "cell_type": "code",
   "execution_count": null,
   "id": "a9702193",
   "metadata": {},
   "outputs": [
    {
     "data": {
      "text/plain": [
       "<matplotlib.image.AxesImage at 0x130170b50>"
      ]
     },
     "execution_count": 43,
     "metadata": {},
     "output_type": "execute_result"
    },
    {
     "data": {
      "image/png": "[encoded data removed]",
      "text/plain": [
       "<Figure size 640x480 with 1 Axes>"
      ]
     },
     "metadata": {},
     "output_type": "display_data"
    }
   ],
   "source": [
    "imshow(np.asarray(a[]['image']))"
   ]
  },
  {
   "cell_type": "markdown",
   "id": "bd6df944",
   "metadata": {},
   "source": [
    "# daas"
   ]
  },
  {
   "cell_type": "code",
   "execution_count": 1,
   "id": "545a06f6",
   "metadata": {},
   "outputs": [
    {
     "name": "stderr",
     "output_type": "stream",
     "text": [
      "/opt/miniconda3/envs/flowerpr/lib/python3.10/site-packages/tqdm/auto.py:21: TqdmWarning: IProgress not found. Please update jupyter and ipywidgets. See https://ipywidgets.readthedocs.io/en/stable/user_install.html\n",
      "  from .autonotebook import tqdm as notebook_tqdm\n"
     ]
    }
   ],
   "source": [
    "\"\"\"fedprox: A Flower Baseline.\"\"\"\n",
    "\n",
    "import numpy as np\n",
    "from datasets import DatasetDict, load_dataset\n",
    "from flwr_datasets import FederatedDataset\n",
    "from flwr_datasets.partitioner import DistributionPartitioner, IidPartitioner\n",
    "from flwr_datasets.preprocessor import Preprocessor\n",
    "from torch.utils.data import DataLoader\n",
    "from torchvision.transforms import Compose, Normalize, ToTensor\n",
    "\n",
    "class FEMNISTFilter(Preprocessor):\n",
    "    \"\"\"A Preprocessor class that filter the FEMNIST data.\n",
    "\n",
    "    It filters data with label 0 to 9 (lower case letters 'a'-'j')\n",
    "    \"\"\"\n",
    "\n",
    "    def __call__(self, dataset: DatasetDict) -> DatasetDict:\n",
    "        \"\"\".\"\"\"\n",
    "        allowed_labels = list(range(10))  # mapping to 'a'-'j'\n",
    "        filtered_dataset = dataset.filter(\n",
    "            lambda example: example[\"character\"] in allowed_labels\n",
    "        )\n",
    "        return filtered_dataset"
   ]
  },
  {
   "cell_type": "code",
   "execution_count": 35,
   "id": "9411b455",
   "metadata": {},
   "outputs": [],
   "source": [
    "num_partitions = 200\n",
    "num_unique_labels_per_partition = 5\n",
    "num_unique_labels = 10\n",
    "preassigned_num_samples_per_label = 5\n",
    "\n",
    "\n",
    "rng = np.random.default_rng(42)\n",
    "distribution_array = rng.lognormal(\n",
    "    4.0,\n",
    "    1.0,\n",
    "    (num_partitions * num_unique_labels_per_partition),\n",
    ")\n",
    "distribution_array = distribution_array.reshape(\n",
    "    (num_unique_labels, -1)\n",
    ")\n",
    "label_key = \"character\"\n",
    "partitioner = DistributionPartitioner(\n",
    "    distribution_array=distribution_array,\n",
    "    num_partitions=num_partitions,\n",
    "    num_unique_labels_per_partition=num_unique_labels_per_partition,\n",
    "    partition_by=label_key,  # target column `label` (\"character\" for FEMNIST)\n",
    "    preassigned_num_samples_per_label=preassigned_num_samples_per_label,\n",
    ")\n"
   ]
  },
  {
   "cell_type": "code",
   "execution_count": 36,
   "id": "aaadba7a",
   "metadata": {},
   "outputs": [],
   "source": [
    "FDS = FederatedDataset(\n",
    "                dataset=\"flwrlabs/femnist\",\n",
    "                preprocessor=FEMNISTFilter(),\n",
    "                partitioners={\"train\": partitioner}\n",
    "                  # Add the Preprocessor class for FEMNIST\n",
    "            )"
   ]
  },
  {
   "cell_type": "code",
   "execution_count": 37,
   "id": "e2bce3d0",
   "metadata": {},
   "outputs": [],
   "source": [
    "b = FDS.load_partition(0)"
   ]
  },
  {
   "cell_type": "code",
   "execution_count": 38,
   "id": "a63bd66a",
   "metadata": {},
   "outputs": [
    {
     "data": {
      "text/plain": [
       "4"
      ]
     },
     "execution_count": 38,
     "metadata": {},
     "output_type": "execute_result"
    }
   ],
   "source": [
    "max(b[\"character\"])"
   ]
  },
  {
   "cell_type": "code",
   "execution_count": 39,
   "id": "eb79c17d",
   "metadata": {},
   "outputs": [
    {
     "data": {
      "text/plain": [
       "2490"
      ]
     },
     "execution_count": 39,
     "metadata": {},
     "output_type": "execute_result"
    }
   ],
   "source": [
    "len(b)"
   ]
  },
  {
   "cell_type": "code",
   "execution_count": 44,
   "id": "5d3052ac",
   "metadata": {},
   "outputs": [
    {
     "data": {
      "text/plain": [
       "<matplotlib.image.AxesImage at 0x148d1d8a0>"
      ]
     },
     "execution_count": 44,
     "metadata": {},
     "output_type": "execute_result"
    },
    {
     "data": {
      "image/png": "[encoded data removed]",
      "text/plain": [
       "<Figure size 640x480 with 1 Axes>"
      ]
     },
     "metadata": {},
     "output_type": "display_data"
    }
   ],
   "source": [
    "from matplotlib.pyplot import imshow\n",
    "import numpy as np\n",
    "from PIL import Image\n",
    "\n",
    "imshow(np.asarray(b[2]['image']))"
   ]
  },
  {
   "cell_type": "code",
   "execution_count": null,
   "id": "dc0cdc17",
   "metadata": {},
   "outputs": [],
   "source": []
  }
 ],
 "metadata": {
  "kernelspec": {
   "display_name": "flowerpr",
   "language": "python",
   "name": "python3"
  },
  "language_info": {
   "codemirror_mode": {
    "name": "ipython",
    "version": 3
   },
   "file_extension": ".py",
   "mimetype": "text/x-python",
   "name": "python",
   "nbconvert_exporter": "python",
   "pygments_lexer": "ipython3",
   "version": "3.10.16"
  }
 },
 "nbformat": 4,
 "nbformat_minor": 5
}
